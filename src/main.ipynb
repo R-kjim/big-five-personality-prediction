{
 "cells": [
  {
   "cell_type": "code",
   "execution_count": 1,
   "id": "cc600390",
   "metadata": {},
   "outputs": [
    {
     "name": "stdout",
     "output_type": "stream",
     "text": [
      "<class 'pandas.core.frame.DataFrame'>\n",
      "RangeIndex: 4000 entries, 0 to 3999\n",
      "Data columns (total 4 columns):\n",
      " #   Column              Non-Null Count  Dtype \n",
      "---  ------              --------------  ----- \n",
      " 0   Target Personality  4000 non-null   object\n",
      " 1   Edit Topic          4000 non-null   object\n",
      " 2   Question            4000 non-null   object\n",
      " 3   Answer              4000 non-null   object\n",
      "dtypes: object(4)\n",
      "memory usage: 125.1+ KB\n"
     ]
    }
   ],
   "source": [
    "import pandas as pd\n",
    "\n",
    "data=pd.read_csv(\"../data/updated_personality_data_train.csv\")\n",
    "data.dropna()\n",
    "data.info()"
   ]
  },
  {
   "cell_type": "code",
   "execution_count": 2,
   "id": "d517260f",
   "metadata": {},
   "outputs": [
    {
     "name": "stderr",
     "output_type": "stream",
     "text": [
      "[nltk_data] Downloading package stopwords to /home/kjim/nltk_data...\n",
      "[nltk_data]   Package stopwords is already up-to-date!\n",
      "[nltk_data] Downloading package wordnet to /home/kjim/nltk_data...\n",
      "[nltk_data]   Package wordnet is already up-to-date!\n"
     ]
    },
    {
     "name": "stdout",
     "output_type": "stream",
     "text": [
      "<class 'pandas.core.frame.DataFrame'>\n",
      "RangeIndex: 4000 entries, 0 to 3999\n",
      "Data columns (total 5 columns):\n",
      " #   Column              Non-Null Count  Dtype \n",
      "---  ------              --------------  ----- \n",
      " 0   Target Personality  4000 non-null   object\n",
      " 1   Edit Topic          4000 non-null   object\n",
      " 2   Question            4000 non-null   object\n",
      " 3   Answer              4000 non-null   object\n",
      " 4   clean_answer        4000 non-null   object\n",
      "dtypes: object(5)\n",
      "memory usage: 156.4+ KB\n"
     ]
    }
   ],
   "source": [
    "import re, os\n",
    "import nltk\n",
    "from nltk.corpus import stopwords\n",
    "from nltk.stem import WordNetLemmatizer\n",
    "nltk.download('stopwords')\n",
    "nltk.download('wordnet')\n",
    "from sklearn.preprocessing import LabelEncoder\n",
    "\n",
    "\"\"\" Pre-process the data \"\"\"\n",
    "\n",
    "\"\"\" \n",
    "- Define a function that takes in some text and:\n",
    "    - turns all text to lower case\n",
    "    - removes all punctuation from the text\n",
    "    - removes all numbers from the text\n",
    "    - remove stopwords and lemmatize the text\n",
    "\"\"\"\n",
    "\n",
    "def process_text(text):\n",
    "    text=text.lower()\n",
    "    text=re.sub(r'[^\\w\\s]', '',text)    #removes punctuations\n",
    "    text=re.sub(r'\\d+','',text) #removes numbers\n",
    "\n",
    "\n",
    "    # Remove stopwords and lemmatize\n",
    "    stop_words=set(stopwords.words('english'))\n",
    "    lematizer=WordNetLemmatizer()\n",
    "    text=\" \".join([lematizer.lemmatize(word=word) for word in text.split() if word not in stop_words])\n",
    "\n",
    "    return text\n",
    "\n",
    "# Apply the process text function to the dataframe\n",
    "data['clean_answer']=data['Answer'].apply(process_text)\n",
    "data.info() # A new column has been created and has the same number of entries as the rest of the columns\n",
    "\n",
    "\"\"\" Save the resulting data in a csv file \"\"\"\n",
    "file_path=os.path.join(os.getcwd(),'../data/clean_data.csv')\n",
    "data.to_csv(file_path,index=False)"
   ]
  }
 ],
 "metadata": {
  "kernelspec": {
   "display_name": "venv",
   "language": "python",
   "name": "python3"
  },
  "language_info": {
   "codemirror_mode": {
    "name": "ipython",
    "version": 3
   },
   "file_extension": ".py",
   "mimetype": "text/x-python",
   "name": "python",
   "nbconvert_exporter": "python",
   "pygments_lexer": "ipython3",
   "version": "3.12.3"
  }
 },
 "nbformat": 4,
 "nbformat_minor": 5
}
